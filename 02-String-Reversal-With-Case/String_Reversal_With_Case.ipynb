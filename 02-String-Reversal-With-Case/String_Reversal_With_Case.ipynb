{
  "nbformat": 4,
  "nbformat_minor": 0,
  "metadata": {
    "colab": {
      "provenance": [],
      "authorship_tag": "ABX9TyMMACPUsIHP4+zhr4bYCwXr"
    },
    "kernelspec": {
      "name": "python3",
      "display_name": "Python 3"
    },
    "language_info": {
      "name": "python"
    }
  },
  "cells": [
    {
      "cell_type": "code",
      "execution_count": null,
      "metadata": {
        "id": "tQehbUlgsqhM"
      },
      "outputs": [],
      "source": [
        "# Exercise Name:\n",
        "# \t02-String-Reversal-With-Case\n",
        "# Description:\n",
        "# \tReverse each word of a string without changing upper-case positions.\n",
        "# Given: \n",
        "# \tsentence = \"Python is Awesome\"\n",
        "# Return: \n",
        "# \t\"Nohtyp si Emosewa\""
      ]
    },
    {
      "cell_type": "code",
      "source": [
        "string = \"Python is Awesome\"\n",
        "rev_str = []\n",
        "output = \"\"\n",
        "rev_string=\"\"\n",
        "str = string.split(' ')\n",
        "for s in str: \n",
        "    rev_str+=[s[::-1]]\n",
        "for out in rev_str:\n",
        "    rev_string+=out + \" \"\n",
        "for i in range(len(rev_string) - 1):\n",
        "    if string[i].isupper():\n",
        "        output += rev_string[i].upper()\n",
        "    else:\n",
        "        output +=rev_string[i].lower()\n",
        "        \n",
        "print(\"Sentence :\" , string)\n",
        "print(\"Reversed Sentence without changing case position :\" ,output)\n",
        "\n",
        "\n",
        "\n",
        "     \n"
      ],
      "metadata": {
        "colab": {
          "base_uri": "https://localhost:8080/"
        },
        "id": "Hr-WkOZps230",
        "outputId": "10c4f844-bdf4-458f-90f8-ebac3b1ca88c"
      },
      "execution_count": 17,
      "outputs": [
        {
          "output_type": "stream",
          "name": "stdout",
          "text": [
            "Sentence : Python is Awesome\n",
            "Reversed Sentence without changing case position : Nohtyp si Emosewa\n"
          ]
        }
      ]
    }
  ]
}