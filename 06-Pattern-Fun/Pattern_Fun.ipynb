{
  "nbformat": 4,
  "nbformat_minor": 0,
  "metadata": {
    "colab": {
      "provenance": [],
      "authorship_tag": "ABX9TyNo+NoqJfOiOUXEocZlksF5"
    },
    "kernelspec": {
      "name": "python3",
      "display_name": "Python 3"
    },
    "language_info": {
      "name": "python"
    }
  },
  "cells": [
    {
      "cell_type": "code",
      "execution_count": null,
      "metadata": {
        "id": "a9RN0tO3ABR2"
      },
      "outputs": [],
      "source": [
        "# Exercise Name:\n",
        "# \t06-Pattern-Fun\n",
        "# Description:\n",
        "# \tPrompt for row count and print a number pattern using that value\n",
        "# Given:\n",
        "# \trow_count = 5\n",
        "# Return:\n",
        "# \t1 1 1 1 1 \n",
        "# \t2 2 2 2 \n",
        "# \t3 3 3 \n",
        "# \t4 4 \n",
        "# \t5"
      ]
    },
    {
      "cell_type": "code",
      "source": [
        "rows = 5\n",
        "x = 0\n",
        "for i in range(rows, 0, -1):\n",
        "    x += 1\n",
        "    for j in range(1, i + 1):\n",
        "        print(x, end=' ')\n",
        "    print('\\r')"
      ],
      "metadata": {
        "colab": {
          "base_uri": "https://localhost:8080/"
        },
        "id": "piueAGiYAL0C",
        "outputId": "d07a525b-31b6-4e4c-a241-64991442b981"
      },
      "execution_count": 15,
      "outputs": [
        {
          "output_type": "stream",
          "name": "stdout",
          "text": [
            "1 1 1 1 1 \r\n",
            "2 2 2 2 \r\n",
            "3 3 3 \r\n",
            "4 4 \r\n",
            "5 \r\n"
          ]
        }
      ]
    }
  ]
}