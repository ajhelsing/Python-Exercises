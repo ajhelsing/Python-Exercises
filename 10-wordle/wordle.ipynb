{
  "nbformat": 4,
  "nbformat_minor": 0,
  "metadata": {
    "colab": {
      "provenance": [],
      "authorship_tag": "ABX9TyM+LxfkoK+eZGxByGeK1Xiw"
    },
    "kernelspec": {
      "name": "python3",
      "display_name": "Python 3"
    },
    "language_info": {
      "name": "python"
    }
  },
  "cells": [
    {
      "cell_type": "code",
      "execution_count": null,
      "metadata": {
        "id": "IEhxMxytj7qj"
      },
      "outputs": [],
      "source": [
        "# Exercise Name:\n",
        "# \t10-wordle\n",
        "# Description:\n",
        "# \tCreate the wordle game\n",
        "# Resources:\n",
        "# \tValid Words List: https://gist.github.com/dracos/dd0668f281e685bad51479e5acaadb93"
      ]
    },
    {
      "cell_type": "code",
      "source": [
        "def check_word():\n",
        "  hidden_word = \"snail\"\n",
        "  attempt = 6\n",
        "  while attempt > 0:\n",
        "    guess = str(input(\"Guess the 5 letter word: \"))\n",
        "    if guess == hidden_word:\n",
        "      print(\"You guessed the words correctly! WIN 🕺🕺🕺 \")\n",
        "      break\n",
        "    else:\n",
        "      attempt = attempt - 1\n",
        "      print(f\"you have {attempt} attempt(s) ,, \\n \")\n",
        "      for char, word in zip(hidden_word, guess):\n",
        "            if word in hidden_word and word in char:\n",
        "                print(word + \" ✔ \")\n",
        "\n",
        "            elif word in hidden_word:\n",
        "                print(word + \" ➕ \")\n",
        "            else:\n",
        "                print(\" ❌ \")\n",
        "      if attempt == 0:\n",
        "        print(\" Game over !!!! \")\n",
        "\n",
        "check_word()"
      ],
      "metadata": {
        "colab": {
          "base_uri": "https://localhost:8080/"
        },
        "id": "YnXp5SEzkt3j",
        "outputId": "32959a40-fed7-482b-a06d-f386ca4405a6"
      },
      "execution_count": 12,
      "outputs": [
        {
          "output_type": "stream",
          "name": "stdout",
          "text": [
            "Guess the 5 letter word: nsail\n",
            "you have 5 attempt(s) ,, \n",
            " \n",
            "n ➕ \n",
            "s ➕ \n",
            "a ✔ \n",
            "i ✔ \n",
            "l ✔ \n",
            "Guess the 5 letter word: snail\n",
            "You guessed the words correctly! WIN 🕺🕺🕺 \n"
          ]
        }
      ]
    }
  ]
}