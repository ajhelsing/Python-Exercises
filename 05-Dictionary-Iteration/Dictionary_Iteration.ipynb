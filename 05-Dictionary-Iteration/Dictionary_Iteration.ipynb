{
  "nbformat": 4,
  "nbformat_minor": 0,
  "metadata": {
    "colab": {
      "provenance": [],
      "authorship_tag": "ABX9TyN+fIL6FtvSRP1eOAjqlWcR"
    },
    "kernelspec": {
      "name": "python3",
      "display_name": "Python 3"
    },
    "language_info": {
      "name": "python"
    }
  },
  "cells": [
    {
      "cell_type": "code",
      "execution_count": null,
      "metadata": {
        "id": "2Ut06Bgc-H_E"
      },
      "outputs": [],
      "source": [
        "# Exercise Name:\n",
        "# \t05-Dictionary-Iteration\n",
        "# Description:\n",
        "# \tReverse Dictionary mapping\n",
        "# Given:\n",
        "# \tascii_dict = {'A': 65, 'B': 66, 'C': 67, 'D': 68}\n",
        "# Return:\n",
        "# \t{65: 'A', 66: 'B', 67: 'C', 68: 'D'}\n"
      ]
    },
    {
      "cell_type": "code",
      "source": [
        "ascii_dict = {'A': 65, 'B': 66, 'C': 67, 'D': 68}\n",
        "reverse_mapping = {value: key for key, value in ascii_dict.items()}\n",
        "print(reverse_mapping)"
      ],
      "metadata": {
        "colab": {
          "base_uri": "https://localhost:8080/"
        },
        "id": "sFWN_VsL-WF2",
        "outputId": "d3b21cb0-34a4-4554-9f59-e9a81c1f7fac"
      },
      "execution_count": 4,
      "outputs": [
        {
          "output_type": "stream",
          "name": "stdout",
          "text": [
            "{65: 'A', 66: 'B', 67: 'C', 68: 'D'}\n"
          ]
        }
      ]
    }
  ]
}