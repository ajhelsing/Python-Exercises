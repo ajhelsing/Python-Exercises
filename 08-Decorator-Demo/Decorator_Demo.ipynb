{
  "nbformat": 4,
  "nbformat_minor": 0,
  "metadata": {
    "colab": {
      "provenance": [],
      "authorship_tag": "ABX9TyNccXkanqOtdm9Aq+gLQh47"
    },
    "kernelspec": {
      "name": "python3",
      "display_name": "Python 3"
    },
    "language_info": {
      "name": "python"
    }
  },
  "cells": [
    {
      "cell_type": "code",
      "execution_count": null,
      "metadata": {
        "id": "58CUhjHbaaQc"
      },
      "outputs": [],
      "source": [
        "# Exercise Name:\n",
        "# \t08-Decorator-Demo\n",
        "# Description:\n",
        "# \tCreate a decorator called 'time_this' and use it to measure time taken to run functions\n",
        "\n",
        "# For example, running:\n",
        "# \t@ time_this\n",
        "# \tdef sleeper_func(sleeptime):\n",
        "# \t    print(f'sleeping for {sleeptime}')\n",
        "# \t    sleep(sleeptime)\n",
        "# \t    return 'Woke up!'\n",
        "\n",
        "# \tsleeper_func(2)\n",
        "\n",
        "# Sould output the following in the console:\n",
        "# \t--> Running sleeper_func\n",
        "# \tsleeping for 2\n",
        "# \t--> sleeper_func ran in 2.002105236053467 seconds"
      ]
    },
    {
      "cell_type": "code",
      "source": [
        "import time\n",
        "def time_this(func):\n",
        "    def TIMER(*args, **kwargs):\n",
        "        start_time = time.time()         \n",
        "        func(*args, **kwargs) \n",
        "        finish_time = time.time()\n",
        "        print(\"Total time taken for the function\", func.__name__, \" to execute : \" ,finish_time - start_time)\n",
        "    return TIMER"
      ],
      "metadata": {
        "id": "FL5HrHVqb8ai"
      },
      "execution_count": 5,
      "outputs": []
    },
    {
      "cell_type": "code",
      "source": [
        "@time_this\n",
        "def Prime(input):  \n",
        "    time.sleep(3)    \n",
        "    if input > 1:          \n",
        "        for i in range(2, int(input/2) + 1):              \n",
        "            if (input % i) == 0:  \n",
        "                print(input, \"is Composite\")  \n",
        "                break        \n",
        "        else:  \n",
        "            print(input, \"is Prime\")       \n",
        "    else:  \n",
        "        print(input, \"is Prime\")  \n",
        "Prime(5)"
      ],
      "metadata": {
        "colab": {
          "base_uri": "https://localhost:8080/"
        },
        "id": "F0Z7det6ccK3",
        "outputId": "0d85ed16-699c-4a0c-9cf0-7062658aa1cf"
      },
      "execution_count": 6,
      "outputs": [
        {
          "output_type": "stream",
          "name": "stdout",
          "text": [
            "5 is Prime\n",
            "Total time taken for the function Prime  to execute :  3.0033767223358154\n"
          ]
        }
      ]
    }
  ]
}