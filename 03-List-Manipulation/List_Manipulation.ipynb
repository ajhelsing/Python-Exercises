{
  "nbformat": 4,
  "nbformat_minor": 0,
  "metadata": {
    "colab": {
      "provenance": [],
      "authorship_tag": "ABX9TyP7bAUmj3DkICQ6uB5f/qPU"
    },
    "kernelspec": {
      "name": "python3",
      "display_name": "Python 3"
    },
    "language_info": {
      "name": "python"
    }
  },
  "cells": [
    {
      "cell_type": "code",
      "execution_count": null,
      "metadata": {
        "id": "eK38lWHZ10Go"
      },
      "outputs": [],
      "source": [
        "# Exercise Name:\n",
        "# \t03-List-Manipulation\n",
        "# Description:\n",
        "# \tRemove items greater than 50 from a list while iterating but without creating a different copy of a list.\n",
        "# Given:\n",
        "# \tnumber_list = [10, 20, 30, 40, 50, 60, 70, 80, 90, 100]\n",
        "# Return:\n",
        "# \t[10, 20, 30, 40, 50]\n",
        "# Note:\n",
        "# \tID of input and output list should match"
      ]
    },
    {
      "cell_type": "code",
      "source": [
        "number_list = [10, 20, 30, 40, 50, 60, 70, 80, 90, 100]\n",
        "for ele in list(number_list):\n",
        "  if ele > 50 :\n",
        "    number_list.remove(ele)\n",
        "print(number_list)"
      ],
      "metadata": {
        "colab": {
          "base_uri": "https://localhost:8080/"
        },
        "id": "3mWGwS6L2cCZ",
        "outputId": "3dd47a55-8e3d-48de-9a30-b7ed2008f673"
      },
      "execution_count": 16,
      "outputs": [
        {
          "output_type": "stream",
          "name": "stdout",
          "text": [
            "[10, 20, 30, 40, 50]\n"
          ]
        }
      ]
    }
  ]
}