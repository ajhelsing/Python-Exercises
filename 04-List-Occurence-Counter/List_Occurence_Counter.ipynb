{
  "nbformat": 4,
  "nbformat_minor": 0,
  "metadata": {
    "colab": {
      "provenance": [],
      "authorship_tag": "ABX9TyOCpN64/u7SotH3KlfForDS"
    },
    "kernelspec": {
      "name": "python3",
      "display_name": "Python 3"
    },
    "language_info": {
      "name": "python"
    }
  },
  "cells": [
    {
      "cell_type": "code",
      "execution_count": null,
      "metadata": {
        "id": "CynXkW1A6QRO"
      },
      "outputs": [],
      "source": [
        "# Exercise Name:\n",
        "# \t04-List-Occurence-Counter\n",
        "# Description:\n",
        "# \tDisplay all duplicate items from a list\n",
        "# Given:\n",
        "# \tsample_list = [10, 20, 60, 30, 20, 40, 30, 60, 70, 80]\n",
        "# Return:\n",
        "# \t[20, 60, 30]\n",
        "# Hint: \n",
        "# \tCount occurence of each item in the list and print items occuring more than once."
      ]
    },
    {
      "cell_type": "code",
      "source": [
        "sample_list = [10, 20, 60, 30, 20, 40, 30, 60, 70, 80]\n",
        "duplicate_list = [x for i, x in enumerate(sample_list) if i != sample_list.index(x)]\n",
        "print(duplicate_list)\n"
      ],
      "metadata": {
        "colab": {
          "base_uri": "https://localhost:8080/"
        },
        "id": "V9XLxp1Q6uZi",
        "outputId": "2ad5be4b-2e7c-4fe0-be54-123b953763f7"
      },
      "execution_count": 12,
      "outputs": [
        {
          "output_type": "stream",
          "name": "stdout",
          "text": [
            "[20, 30, 60]\n"
          ]
        }
      ]
    }
  ]
}